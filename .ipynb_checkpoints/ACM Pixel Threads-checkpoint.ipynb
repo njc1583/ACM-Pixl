{
 "cells": [
  {
   "cell_type": "code",
   "execution_count": null,
   "metadata": {},
   "outputs": [],
   "source": [
    "import requests\n",
    "import itertools\n",
    "from PIL import Image\n",
    "from random import shuffle\n",
    "import time\n",
    "\n",
    "im = Image.open('DBBE_ETHWHT.jpg')\n",
    "pix = im.load()"
   ]
  },
  {
   "cell_type": "code",
   "execution_count": null,
   "metadata": {},
   "outputs": [],
   "source": [
    "# The column method; randomly goes through each column picks rows in the\n",
    "# same order as last time\n",
    "\n",
    "start = time.time()\n",
    "\n",
    "x = [i for i in range(128)]\n",
    "shuffle(x)\n",
    "y = [i for i in range(128)]\n",
    "shuffle(y)\n",
    "\n",
    "for x_0 in x:\n",
    "    if x_0 % 10 == 0:\n",
    "        print(\"{0}% done\".format(100*(x_0/128)))\n",
    "    for y_0 in y:\n",
    "        pix_0 = pix[x_0 * (im.size[0] / 128), \n",
    "                    y_0 * (im.size[1] / 128)]\n",
    "        requests.post('http://pixel.acm.illinois.edu', \n",
    "                      data={'x': str(x_0), 'y': str(y_0), \n",
    "                            'color': '#%02x%02x%02x' % pix_0})\n",
    "        \n",
    "end = time.time()\n",
    "\n",
    "print(\"This took {0} seconds.\".format(end-start))"
   ]
  },
  {
   "cell_type": "code",
   "execution_count": null,
   "metadata": {},
   "outputs": [],
   "source": [
    "# Simple column-row traversal\n",
    "\n",
    "start = time.time()\n",
    "\n",
    "for x_0 in range(128):\n",
    "    if x_0 % 10 == 0:\n",
    "        print(\"{0}% done\".format(100*(x_0/128)))\n",
    "    for y_0 in range(128):\n",
    "        pix_0 = pix[x_0 * (im.size[0] / 128), \n",
    "                    y_0 * (im.size[1] / 128)]\n",
    "        requests.post('http://pixel.acm.illinois.edu', \n",
    "                      data={'x': str(x_0), 'y': str(y_0), \n",
    "                            'color': '#%02x%02x%02x' % pix_0})\n",
    "end = time.time()\n",
    "          \n",
    "print(\"This took {0} seconds.\".format(end-start))"
   ]
  },
  {
   "cell_type": "code",
   "execution_count": null,
   "metadata": {},
   "outputs": [],
   "source": [
    "# Random pixel loader\n",
    "\n",
    "x = list(range(128))\n",
    "y = list(range(128))\n",
    "\n",
    "start = time.time()\n",
    "\n",
    "x_y = list(itertools.product(x, y))\n",
    "shuffle(x_y)\n",
    "\n",
    "for i in range(len(x_y)):\n",
    "    if i % 100 == 0:\n",
    "        print(\"{0}% done\".format(i/128))\n",
    "    pix_0 = pix[x_y[i][0] * (im.size[0] / 128), \n",
    "                x_y[i][1] * (im.size[1] / 128)]\n",
    "    requests.post('http://pixel.acm.illinois.edu', \n",
    "                  data={'x': str(x_y[i][0]), 'y': str(x_y[i][1]), \n",
    "                        'color': '#%02x%02x%02x' % pix_0})\n",
    "    \n",
    "end = time.time()\n",
    "          \n",
    "print(\"This took {0} seconds.\".format(end-start))"
   ]
  }
 ],
 "metadata": {
  "kernelspec": {
   "display_name": "Python 3",
   "language": "python",
   "name": "python3"
  },
  "language_info": {
   "codemirror_mode": {
    "name": "ipython",
    "version": 3
   },
   "file_extension": ".py",
   "mimetype": "text/x-python",
   "name": "python",
   "nbconvert_exporter": "python",
   "pygments_lexer": "ipython3",
   "version": "3.7.1"
  }
 },
 "nbformat": 4,
 "nbformat_minor": 2
}
